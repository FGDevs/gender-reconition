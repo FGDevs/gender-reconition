{
 "cells": [
  {
   "cell_type": "markdown",
   "id": "d6ca0fb0",
   "metadata": {
    "_cell_guid": "b1076dfc-b9ad-4769-8c92-a6c4dae69d19",
    "_uuid": "8f2839f25d086af736a60e9eeb907d3b93b6e0e5",
    "papermill": {
     "duration": 0.009959,
     "end_time": "2024-06-24T10:36:17.293850",
     "exception": false,
     "start_time": "2024-06-24T10:36:17.283891",
     "status": "completed"
    },
    "tags": []
   },
   "source": [
    "# **IMPORT LIBRARY**\n"
   ]
  },
  {
   "cell_type": "code",
   "execution_count": 1,
   "id": "78bf0c5e",
   "metadata": {
    "execution": {
     "iopub.execute_input": "2024-06-24T10:36:17.314579Z",
     "iopub.status.busy": "2024-06-24T10:36:17.313836Z",
     "iopub.status.idle": "2024-06-24T10:36:24.584532Z",
     "shell.execute_reply": "2024-06-24T10:36:24.583568Z"
    },
    "papermill": {
     "duration": 7.283582,
     "end_time": "2024-06-24T10:36:24.586907",
     "exception": false,
     "start_time": "2024-06-24T10:36:17.303325",
     "status": "completed"
    },
    "tags": []
   },
   "outputs": [],
   "source": [
    "import os\n",
    "import pandas as pd\n",
    "from sklearn.model_selection import train_test_split\n",
    "import torch\n",
    "from torch.utils.data import Dataset, DataLoader\n",
    "from torchvision import transforms\n",
    "import torch.nn as nn\n",
    "import torch.optim as optim\n",
    "from torchvision.models import resnet18, resnet34, googlenet\n",
    "import time\n",
    "from torch.autograd import Variable\n",
    "from PIL import Image\n",
    "from sklearn.metrics import classification_report, confusion_matrix\n",
    "import matplotlib.pyplot as plt\n",
    "import cv2\n",
    "import time\n",
    "from torch.autograd import Variable\n",
    "import joblib\n",
    "import seaborn as sns"
   ]
  },
  {
   "cell_type": "code",
   "execution_count": 2,
   "id": "aacdaafa",
   "metadata": {
    "execution": {
     "iopub.execute_input": "2024-06-24T10:36:24.607114Z",
     "iopub.status.busy": "2024-06-24T10:36:24.606708Z",
     "iopub.status.idle": "2024-06-24T10:36:24.680755Z",
     "shell.execute_reply": "2024-06-24T10:36:24.679817Z"
    },
    "papermill": {
     "duration": 0.08612,
     "end_time": "2024-06-24T10:36:24.682680",
     "exception": false,
     "start_time": "2024-06-24T10:36:24.596560",
     "status": "completed"
    },
    "tags": []
   },
   "outputs": [],
   "source": [
    "use_gpu = torch.cuda.is_available()"
   ]
  },
  {
   "cell_type": "markdown",
   "id": "c976521d",
   "metadata": {
    "papermill": {
     "duration": 0.010181,
     "end_time": "2024-06-24T10:36:24.702386",
     "exception": false,
     "start_time": "2024-06-24T10:36:24.692205",
     "status": "completed"
    },
    "tags": []
   },
   "source": [
    "# **DATA PREPARATION**"
   ]
  },
  {
   "cell_type": "code",
   "execution_count": 3,
   "id": "86ede46b",
   "metadata": {
    "execution": {
     "iopub.execute_input": "2024-06-24T10:36:24.722158Z",
     "iopub.status.busy": "2024-06-24T10:36:24.721875Z",
     "iopub.status.idle": "2024-06-24T10:36:24.726079Z",
     "shell.execute_reply": "2024-06-24T10:36:24.725193Z"
    },
    "papermill": {
     "duration": 0.01604,
     "end_time": "2024-06-24T10:36:24.727938",
     "exception": false,
     "start_time": "2024-06-24T10:36:24.711898",
     "status": "completed"
    },
    "tags": []
   },
   "outputs": [],
   "source": [
    "data_path='/kaggle/input/gender/Dataset-Gender/Dataset'\n",
    "project_path='/kaggle/input/gender'\n",
    "\n",
    "attribute_path = data_path+'/list_attribute.txt'\n",
    "image_list_path = data_path+'/Images'"
   ]
  },
  {
   "cell_type": "code",
   "execution_count": 4,
   "id": "e33d65b2",
   "metadata": {
    "execution": {
     "iopub.execute_input": "2024-06-24T10:36:24.747282Z",
     "iopub.status.busy": "2024-06-24T10:36:24.746978Z",
     "iopub.status.idle": "2024-06-24T10:36:24.764834Z",
     "shell.execute_reply": "2024-06-24T10:36:24.764000Z"
    },
    "papermill": {
     "duration": 0.029794,
     "end_time": "2024-06-24T10:36:24.766831",
     "exception": false,
     "start_time": "2024-06-24T10:36:24.737037",
     "status": "completed"
    },
    "tags": []
   },
   "outputs": [
    {
     "data": {
      "text/plain": [
       "['gender_classification.xlsx',\n",
       " 'list_attribute.txt',\n",
       " 'gender_classification.csv',\n",
       " 'Images',\n",
       " 'model_saved',\n",
       " 'class_identity.txt']"
      ]
     },
     "execution_count": 4,
     "metadata": {},
     "output_type": "execute_result"
    }
   ],
   "source": [
    "os.listdir(data_path)"
   ]
  },
  {
   "cell_type": "code",
   "execution_count": 5,
   "id": "86af5bc4",
   "metadata": {
    "execution": {
     "iopub.execute_input": "2024-06-24T10:36:24.787340Z",
     "iopub.status.busy": "2024-06-24T10:36:24.787046Z",
     "iopub.status.idle": "2024-06-24T10:36:24.962368Z",
     "shell.execute_reply": "2024-06-24T10:36:24.961290Z"
    },
    "papermill": {
     "duration": 0.187226,
     "end_time": "2024-06-24T10:36:24.964260",
     "exception": false,
     "start_time": "2024-06-24T10:36:24.777034",
     "status": "completed"
    },
    "tags": []
   },
   "outputs": [
    {
     "name": "stdout",
     "output_type": "stream",
     "text": [
      "Eg:  ['168180.jpg', '012764.jpg']\n",
      "Count: 5000\n"
     ]
    }
   ],
   "source": [
    "images = os.listdir(image_list_path)\n",
    "images = [image for image in images if len(image.split('(')) <= 1]\n",
    "print('Eg: ', images[:2])\n",
    "print('Count:', len(images))\n",
    "# images"
   ]
  },
  {
   "cell_type": "code",
   "execution_count": 6,
   "id": "78b507a7",
   "metadata": {
    "execution": {
     "iopub.execute_input": "2024-06-24T10:36:24.984146Z",
     "iopub.status.busy": "2024-06-24T10:36:24.983870Z",
     "iopub.status.idle": "2024-06-24T10:36:26.178893Z",
     "shell.execute_reply": "2024-06-24T10:36:26.178112Z"
    },
    "papermill": {
     "duration": 1.207792,
     "end_time": "2024-06-24T10:36:26.181469",
     "exception": false,
     "start_time": "2024-06-24T10:36:24.973677",
     "status": "completed"
    },
    "tags": []
   },
   "outputs": [],
   "source": [
    "data = pd.DataFrame(pd.read_csv(project_path+'/cleaned_list_attribute.txt', sep='\\s+'))\n",
    "data = pd.DataFrame(data.filter(items=images, axis=0))\n",
    "data = data.replace(-1, 0)\n",
    "data = data['Male']"
   ]
  },
  {
   "cell_type": "code",
   "execution_count": 7,
   "id": "20f935a7",
   "metadata": {
    "execution": {
     "iopub.execute_input": "2024-06-24T10:36:26.202394Z",
     "iopub.status.busy": "2024-06-24T10:36:26.202084Z",
     "iopub.status.idle": "2024-06-24T10:36:26.217825Z",
     "shell.execute_reply": "2024-06-24T10:36:26.216933Z"
    },
    "papermill": {
     "duration": 0.0289,
     "end_time": "2024-06-24T10:36:26.220096",
     "exception": false,
     "start_time": "2024-06-24T10:36:26.191196",
     "status": "completed"
    },
    "tags": []
   },
   "outputs": [
    {
     "name": "stdout",
     "output_type": "stream",
     "text": [
      "<class 'pandas.core.series.Series'>\n",
      "Index: 5000 entries, 168180.jpg to 091184.jpg\n",
      "Series name: Male\n",
      "Non-Null Count  Dtype\n",
      "--------------  -----\n",
      "5000 non-null   int64\n",
      "dtypes: int64(1)\n",
      "memory usage: 78.1+ KB\n"
     ]
    }
   ],
   "source": [
    "data.info()"
   ]
  },
  {
   "cell_type": "code",
   "execution_count": 8,
   "id": "ca65b559",
   "metadata": {
    "execution": {
     "iopub.execute_input": "2024-06-24T10:36:26.240139Z",
     "iopub.status.busy": "2024-06-24T10:36:26.239892Z",
     "iopub.status.idle": "2024-06-24T10:36:26.246807Z",
     "shell.execute_reply": "2024-06-24T10:36:26.246092Z"
    },
    "papermill": {
     "duration": 0.019127,
     "end_time": "2024-06-24T10:36:26.248676",
     "exception": false,
     "start_time": "2024-06-24T10:36:26.229549",
     "status": "completed"
    },
    "tags": []
   },
   "outputs": [],
   "source": [
    "# Redistribute male & female image\n",
    "data_male = data[data==1]\n",
    "data_female = data[data==0]\n",
    "\n",
    "train_data = pd.concat([data_male[:1500], data_female[:1500]], axis=0)\n",
    "test_data = pd.concat([data_male[1500:], data_female[1500:]], axis=0)"
   ]
  },
  {
   "cell_type": "markdown",
   "id": "4032fb21",
   "metadata": {
    "papermill": {
     "duration": 0.009522,
     "end_time": "2024-06-24T10:36:26.267972",
     "exception": false,
     "start_time": "2024-06-24T10:36:26.258450",
     "status": "completed"
    },
    "tags": []
   },
   "source": [
    "## **HELPERS**"
   ]
  },
  {
   "cell_type": "code",
   "execution_count": 9,
   "id": "e7e0d995",
   "metadata": {
    "execution": {
     "iopub.execute_input": "2024-06-24T10:36:26.288199Z",
     "iopub.status.busy": "2024-06-24T10:36:26.287944Z",
     "iopub.status.idle": "2024-06-24T10:36:26.318575Z",
     "shell.execute_reply": "2024-06-24T10:36:26.317758Z"
    },
    "papermill": {
     "duration": 0.042882,
     "end_time": "2024-06-24T10:36:26.320431",
     "exception": false,
     "start_time": "2024-06-24T10:36:26.277549",
     "status": "completed"
    },
    "tags": []
   },
   "outputs": [
    {
     "data": {
      "text/plain": [
       "{'image': <PIL.Image.Image image mode=RGB size=178x218>, 'gender': 1}"
      ]
     },
     "execution_count": 9,
     "metadata": {},
     "output_type": "execute_result"
    }
   ],
   "source": [
    "def dataset_getitem(image_folder_path, data, idx):\n",
    "  image_name = data.keys()[idx]\n",
    "  gender = data.iloc[idx]\n",
    "\n",
    "  image_path = os.path.join(image_folder_path, image_name)\n",
    "  image = cv2.imread(image_path)\n",
    "  image = cv2.cvtColor(image, cv2.COLOR_BGR2RGB)\n",
    "  image = Image.fromarray(image)\n",
    "\n",
    "  return {\n",
    "      'image': image,\n",
    "      'gender': gender,\n",
    "  }\n",
    "\n",
    "# Function Sample\n",
    "dataset_getitem(os.path.join(data_path, \"Images\"), train_data, 0)"
   ]
  },
  {
   "cell_type": "code",
   "execution_count": 10,
   "id": "738dac72",
   "metadata": {
    "execution": {
     "iopub.execute_input": "2024-06-24T10:36:26.340709Z",
     "iopub.status.busy": "2024-06-24T10:36:26.340448Z",
     "iopub.status.idle": "2024-06-24T10:36:26.347745Z",
     "shell.execute_reply": "2024-06-24T10:36:26.346937Z"
    },
    "papermill": {
     "duration": 0.019413,
     "end_time": "2024-06-24T10:36:26.349560",
     "exception": false,
     "start_time": "2024-06-24T10:36:26.330147",
     "status": "completed"
    },
    "tags": []
   },
   "outputs": [],
   "source": [
    "def get_report(model, test_dataloaders):\n",
    "    train_time = 0\n",
    "    y_true = torch.empty((0)).cuda()\n",
    "    y_pred = torch.empty((0)).cuda()\n",
    "\n",
    "    for data in test_dataloaders:\n",
    "      inputs, labels = data\n",
    "      \n",
    "      if torch.cuda.is_available():\n",
    "          inputs, labels = Variable(inputs.cuda()), Variable(labels.cuda())\n",
    "      else:\n",
    "          inputs, labels = Variable(inputs), Variable(labels)\n",
    "      \n",
    "      start_time = time.time()\n",
    "      outputs = model(inputs)\n",
    "    \n",
    "      end_time = time.time()\n",
    "      train_time += end_time - start_time\n",
    "     \n",
    "      preds = (torch.sigmoid(outputs).squeeze() > 0.5).float()\n",
    "      y_true = torch.cat((y_true, labels.data), -1)\n",
    "      y_pred = torch.cat((y_pred, preds), -1)\n",
    "    \n",
    "    inference_time = train_time/len(test_dataloaders)\n",
    "    \n",
    "    return y_true, y_pred, inference_time"
   ]
  },
  {
   "cell_type": "code",
   "execution_count": 11,
   "id": "e74199be",
   "metadata": {
    "execution": {
     "iopub.execute_input": "2024-06-24T10:36:26.369792Z",
     "iopub.status.busy": "2024-06-24T10:36:26.369527Z",
     "iopub.status.idle": "2024-06-24T10:36:26.376107Z",
     "shell.execute_reply": "2024-06-24T10:36:26.375292Z"
    },
    "papermill": {
     "duration": 0.018792,
     "end_time": "2024-06-24T10:36:26.377966",
     "exception": false,
     "start_time": "2024-06-24T10:36:26.359174",
     "status": "completed"
    },
    "tags": []
   },
   "outputs": [],
   "source": [
    "def plot_train(loss, train_acc, val_acc):\n",
    "    x = np.arange(0,10,1)\n",
    "    fig, ax = plt.subplots(1, 2, figsize=(12, 5))\n",
    "\n",
    "    ax[0].plot(x, train_acc, color='r', label='train acc')\n",
    "    ax[0].plot(x, val_acc, color='b', label='val acc')\n",
    "    ax[0].set_xlabel(\"Epoch(s)\") \n",
    "    ax[0].set_ylabel(\"Accuracy\") \n",
    "    ax[0].set_title(\"Accuracy per epoch\")\n",
    "    ax[0].legend()\n",
    "\n",
    "    ax[1].plot(x, loss, color='r', label='loss')\n",
    "    ax[1].set_xlabel(\"Epoch(s)\") \n",
    "    ax[1].set_ylabel(\"Loss\") \n",
    "    ax[1].set_title(\"Loss per epoch\")\n",
    "    ax[1].legend()\n",
    "\n",
    "    plt.show"
   ]
  },
  {
   "cell_type": "markdown",
   "id": "11cf0fe4",
   "metadata": {
    "papermill": {
     "duration": 0.00938,
     "end_time": "2024-06-24T10:36:26.396857",
     "exception": false,
     "start_time": "2024-06-24T10:36:26.387477",
     "status": "completed"
    },
    "tags": []
   },
   "source": [
    "# **DATA PRE-PROCESSING**"
   ]
  },
  {
   "cell_type": "code",
   "execution_count": 12,
   "id": "704dc547",
   "metadata": {
    "execution": {
     "iopub.execute_input": "2024-06-24T10:36:26.416953Z",
     "iopub.status.busy": "2024-06-24T10:36:26.416696Z",
     "iopub.status.idle": "2024-06-24T10:36:26.422829Z",
     "shell.execute_reply": "2024-06-24T10:36:26.422163Z"
    },
    "papermill": {
     "duration": 0.018314,
     "end_time": "2024-06-24T10:36:26.424677",
     "exception": false,
     "start_time": "2024-06-24T10:36:26.406363",
     "status": "completed"
    },
    "tags": []
   },
   "outputs": [],
   "source": [
    "class GenderDataset(Dataset):\n",
    "    def __init__(self, data, image_folder_path, transform=None):\n",
    "        self.data = data\n",
    "        self.image_folder_path = image_folder_path\n",
    "        self.transform = transform\n",
    "\n",
    "    def __len__(self):\n",
    "        return len(self.data)\n",
    "\n",
    "    def __getitem__(self, idx):\n",
    "      result = dataset_getitem(self.image_folder_path, self.data, idx)\n",
    "      if self.transform:\n",
    "        image = self.transform(result['image'])\n",
    "      return image, torch.tensor(result['gender'], dtype=torch.long)"
   ]
  },
  {
   "cell_type": "code",
   "execution_count": 13,
   "id": "57452378",
   "metadata": {
    "execution": {
     "iopub.execute_input": "2024-06-24T10:36:26.445276Z",
     "iopub.status.busy": "2024-06-24T10:36:26.444990Z",
     "iopub.status.idle": "2024-06-24T10:36:26.450978Z",
     "shell.execute_reply": "2024-06-24T10:36:26.450213Z"
    },
    "papermill": {
     "duration": 0.018023,
     "end_time": "2024-06-24T10:36:26.452717",
     "exception": false,
     "start_time": "2024-06-24T10:36:26.434694",
     "status": "completed"
    },
    "tags": []
   },
   "outputs": [],
   "source": [
    "transform = {\n",
    "     'train': transforms.Compose([\n",
    "        transforms.RandomHorizontalFlip(),\n",
    "        transforms.Resize(256),\n",
    "        transforms.RandomRotation(45),\n",
    "        transforms.CenterCrop(224),\n",
    "        transforms.ToTensor(),\n",
    "        transforms.Normalize([0.485, 0.456, 0.406], [0.229, 0.224, 0.225])\n",
    "    ]),\n",
    "    'test': transforms.Compose([\n",
    "        transforms.Resize(256),\n",
    "        transforms.CenterCrop(224),\n",
    "        transforms.ToTensor(),\n",
    "        transforms.Normalize([0.485, 0.456, 0.406], [0.229, 0.224, 0.225])\n",
    "    ]),\n",
    "}"
   ]
  },
  {
   "cell_type": "code",
   "execution_count": 14,
   "id": "f1282728",
   "metadata": {
    "execution": {
     "iopub.execute_input": "2024-06-24T10:36:26.473993Z",
     "iopub.status.busy": "2024-06-24T10:36:26.473222Z",
     "iopub.status.idle": "2024-06-24T10:36:26.480151Z",
     "shell.execute_reply": "2024-06-24T10:36:26.479282Z"
    },
    "papermill": {
     "duration": 0.019614,
     "end_time": "2024-06-24T10:36:26.482130",
     "exception": false,
     "start_time": "2024-06-24T10:36:26.462516",
     "status": "completed"
    },
    "tags": []
   },
   "outputs": [
    {
     "name": "stdout",
     "output_type": "stream",
     "text": [
      "{'train': 3000, 'test': 2000}\n"
     ]
    }
   ],
   "source": [
    "train_set = GenderDataset(train_data, image_folder_path=os.path.join(data_path, \"Images\"), transform=transform['train'])\n",
    "train_loader = DataLoader(train_set, batch_size=32, shuffle=True, num_workers=2)\n",
    "\n",
    "test_set = GenderDataset(test_data, os.path.join(data_path, \"Images\"), transform=transform['test'])\n",
    "test_loader = DataLoader(test_set, batch_size=32, shuffle=False, num_workers=2)\n",
    "\n",
    "print({ 'train': len(train_set), 'test': len(test_set) })"
   ]
  },
  {
   "cell_type": "code",
   "execution_count": 15,
   "id": "cce10277",
   "metadata": {
    "execution": {
     "iopub.execute_input": "2024-06-24T10:36:26.503050Z",
     "iopub.status.busy": "2024-06-24T10:36:26.502299Z",
     "iopub.status.idle": "2024-06-24T10:36:26.506297Z",
     "shell.execute_reply": "2024-06-24T10:36:26.505590Z"
    },
    "papermill": {
     "duration": 0.016162,
     "end_time": "2024-06-24T10:36:26.508035",
     "exception": false,
     "start_time": "2024-06-24T10:36:26.491873",
     "status": "completed"
    },
    "tags": []
   },
   "outputs": [],
   "source": [
    "dataloders = {\"train\":train_loader, \"test\":test_loader}\n",
    "dataset_sizes = {\"train\":len(train_set), \"test\":len(test_set)}"
   ]
  },
  {
   "cell_type": "code",
   "execution_count": 16,
   "id": "9a4ee538",
   "metadata": {
    "execution": {
     "iopub.execute_input": "2024-06-24T10:36:26.528287Z",
     "iopub.status.busy": "2024-06-24T10:36:26.528009Z",
     "iopub.status.idle": "2024-06-24T10:36:26.531722Z",
     "shell.execute_reply": "2024-06-24T10:36:26.530981Z"
    },
    "papermill": {
     "duration": 0.015903,
     "end_time": "2024-06-24T10:36:26.533601",
     "exception": false,
     "start_time": "2024-06-24T10:36:26.517698",
     "status": "completed"
    },
    "tags": []
   },
   "outputs": [],
   "source": [
    "criterion = nn.BCEWithLogitsLoss()"
   ]
  },
  {
   "cell_type": "markdown",
   "id": "c09d833e",
   "metadata": {
    "papermill": {
     "duration": 0.009621,
     "end_time": "2024-06-24T10:36:26.553129",
     "exception": false,
     "start_time": "2024-06-24T10:36:26.543508",
     "status": "completed"
    },
    "tags": []
   },
   "source": [
    "# **MODEL RESNET**"
   ]
  },
  {
   "cell_type": "code",
   "execution_count": 17,
   "id": "5f9e794e",
   "metadata": {
    "execution": {
     "iopub.execute_input": "2024-06-24T10:36:26.573725Z",
     "iopub.status.busy": "2024-06-24T10:36:26.573477Z",
     "iopub.status.idle": "2024-06-24T10:36:26.585867Z",
     "shell.execute_reply": "2024-06-24T10:36:26.585002Z"
    },
    "papermill": {
     "duration": 0.024887,
     "end_time": "2024-06-24T10:36:26.587692",
     "exception": false,
     "start_time": "2024-06-24T10:36:26.562805",
     "status": "completed"
    },
    "tags": []
   },
   "outputs": [],
   "source": [
    "def train_model_resnet(model, dataloaders, dataset_sizes, criterion, optimizer, use_gpu=torch.cuda.is_available(), num_epochs=10):\n",
    "    since = time.time()\n",
    "\n",
    "    best_model_wts = model.state_dict()\n",
    "    best_acc = 0.0\n",
    "\n",
    "    for epoch in range(num_epochs):\n",
    "        print('Epoch {}/{}'.format(epoch, num_epochs - 1))\n",
    "        print('-' * 10)\n",
    "\n",
    "        # Each epoch has a training and validation phase\n",
    "        for phase in ['train', 'test']:\n",
    "            if phase == 'train':\n",
    "                model.train(True)  # Set model to training mode\n",
    "            else:\n",
    "                model.train(False)  # Set model to evaluate mode\n",
    "\n",
    "            running_loss = 0.0\n",
    "            running_corrects = 0\n",
    "\n",
    "            # Iterate over data.\n",
    "            for data in dataloders[phase]:\n",
    "                # get the inputs\n",
    "                inputs, labels = data\n",
    "\n",
    "                # wrap them in Variable\n",
    "                if use_gpu:\n",
    "                    inputs = Variable(inputs.cuda())\n",
    "                    labels = Variable(labels.cuda())\n",
    "                else:\n",
    "                    inputs, labels = Variable(inputs), Variable(labels)\n",
    "\n",
    "                # zero the parameter gradients\n",
    "                optimizer.zero_grad()\n",
    "\n",
    "                # forward\n",
    "                outputs = model(inputs)\n",
    "                outputs = outputs.squeeze()\n",
    "                loss = criterion(outputs, labels.float())\n",
    "\n",
    "                # backward + optimize only if in training phase\n",
    "                if phase == 'train':\n",
    "                    loss.backward()\n",
    "                    optimizer.step()\n",
    "\n",
    "                # statistics\n",
    "                preds = (torch.sigmoid(outputs) > 0.5).float()\n",
    "#                 print('preds {}'.format(preds))\n",
    "                running_loss += loss.data\n",
    "#                 print('running_loss {}'.format(running_loss))\n",
    "                running_corrects += torch.sum(preds == labels.data)\n",
    "#                 print('running_corrects {}'.format(running_corrects))\n",
    "\n",
    "            epoch_loss = running_loss / dataset_sizes[phase]\n",
    "            epoch_acc = running_corrects.float() / dataset_sizes[phase]\n",
    "\n",
    "            print('{} Loss: {:.4f} Acc: {:.4f}'.format(phase, epoch_loss, epoch_acc))\n",
    "\n",
    "            # deep copy the model\n",
    "            if phase == 'test' and epoch_acc > best_acc:\n",
    "                best_acc = epoch_acc\n",
    "                best_model_wts = model.state_dict()\n",
    "                state = {'model':model.state_dict(),'optim':optimizer.state_dict()}\n",
    "#                 torch.save(state,'/kaggle/working/resnet18.pth')\n",
    "                joblib.dump(state, '/kaggle/working/resnet18_compressed.pkl', compress=3)\n",
    "\n",
    "        print()\n",
    "\n",
    "    time_elapsed = time.time() - since\n",
    "    print('Training complete in {:.0f}m {:.0f}s'.format(time_elapsed // 60, time_elapsed % 60))\n",
    "    print('Best test Acc: {:4f}'.format(best_acc))\n",
    "\n",
    "    # load best model weights\n",
    "    model.load_state_dict(best_model_wts)\n",
    "    return model"
   ]
  },
  {
   "cell_type": "markdown",
   "id": "56861b70",
   "metadata": {
    "papermill": {
     "duration": 0.009526,
     "end_time": "2024-06-24T10:36:26.606991",
     "exception": false,
     "start_time": "2024-06-24T10:36:26.597465",
     "status": "completed"
    },
    "tags": []
   },
   "source": [
    "## **MODEL RESNET18**"
   ]
  },
  {
   "cell_type": "code",
   "execution_count": 18,
   "id": "699368fb",
   "metadata": {
    "execution": {
     "iopub.execute_input": "2024-06-24T10:36:26.627297Z",
     "iopub.status.busy": "2024-06-24T10:36:26.626990Z",
     "iopub.status.idle": "2024-06-24T10:36:27.097144Z",
     "shell.execute_reply": "2024-06-24T10:36:27.096128Z"
    },
    "papermill": {
     "duration": 0.482993,
     "end_time": "2024-06-24T10:36:27.099559",
     "exception": false,
     "start_time": "2024-06-24T10:36:26.616566",
     "status": "completed"
    },
    "tags": []
   },
   "outputs": [],
   "source": [
    "model_r18 = resnet18()\n",
    "num_features = model_r18.fc.in_features\n",
    "model_r18.fc = nn.Linear(num_features, 1)\n",
    "optimizer_r18 = optim.Adam(model_r18.parameters(), lr=0.0001)\n",
    "\n",
    "if use_gpu:\n",
    "    model_r18 = model_r18.cuda()"
   ]
  },
  {
   "cell_type": "code",
   "execution_count": 19,
   "id": "0b30173b",
   "metadata": {
    "collapsed": true,
    "execution": {
     "iopub.execute_input": "2024-06-24T10:36:27.120508Z",
     "iopub.status.busy": "2024-06-24T10:36:27.120177Z",
     "iopub.status.idle": "2024-06-24T10:39:49.494269Z",
     "shell.execute_reply": "2024-06-24T10:39:49.493134Z"
    },
    "jupyter": {
     "outputs_hidden": true
    },
    "papermill": {
     "duration": 202.39776,
     "end_time": "2024-06-24T10:39:49.507267",
     "exception": false,
     "start_time": "2024-06-24T10:36:27.109507",
     "status": "completed"
    },
    "tags": []
   },
   "outputs": [
    {
     "name": "stdout",
     "output_type": "stream",
     "text": [
      "Epoch 0/9\n",
      "----------\n",
      "train Loss: 0.0203 Acc: 0.6287\n",
      "test Loss: 0.0245 Acc: 0.5355\n",
      "\n",
      "Epoch 1/9\n",
      "----------\n",
      "train Loss: 0.0159 Acc: 0.7523\n",
      "test Loss: 0.0159 Acc: 0.7700\n",
      "\n",
      "Epoch 2/9\n",
      "----------\n",
      "train Loss: 0.0124 Acc: 0.8177\n",
      "test Loss: 0.0123 Acc: 0.8040\n",
      "\n",
      "Epoch 3/9\n",
      "----------\n",
      "train Loss: 0.0104 Acc: 0.8613\n",
      "test Loss: 0.0076 Acc: 0.8950\n",
      "\n",
      "Epoch 4/9\n",
      "----------\n",
      "train Loss: 0.0084 Acc: 0.8873\n",
      "test Loss: 0.0084 Acc: 0.8850\n",
      "\n",
      "Epoch 5/9\n",
      "----------\n",
      "train Loss: 0.0077 Acc: 0.8963\n",
      "test Loss: 0.0072 Acc: 0.8995\n",
      "\n",
      "Epoch 6/9\n",
      "----------\n",
      "train Loss: 0.0072 Acc: 0.9060\n",
      "test Loss: 0.0085 Acc: 0.8790\n",
      "\n",
      "Epoch 7/9\n",
      "----------\n",
      "train Loss: 0.0066 Acc: 0.9080\n",
      "test Loss: 0.0067 Acc: 0.9085\n",
      "\n",
      "Epoch 8/9\n",
      "----------\n",
      "train Loss: 0.0061 Acc: 0.9247\n",
      "test Loss: 0.0072 Acc: 0.9090\n",
      "\n",
      "Epoch 9/9\n",
      "----------\n",
      "train Loss: 0.0055 Acc: 0.9330\n",
      "test Loss: 0.0058 Acc: 0.9250\n",
      "\n",
      "Training complete in 3m 22s\n",
      "Best test Acc: 0.925000\n"
     ]
    }
   ],
   "source": [
    "model_r18 = train_model_resnet(model_r18, dataloders, dataset_sizes, criterion, optimizer_r18)"
   ]
  },
  {
   "cell_type": "code",
   "execution_count": 20,
   "id": "87e8e1d6",
   "metadata": {
    "execution": {
     "iopub.execute_input": "2024-06-24T10:39:49.532942Z",
     "iopub.status.busy": "2024-06-24T10:39:49.532087Z",
     "iopub.status.idle": "2024-06-24T10:39:54.164006Z",
     "shell.execute_reply": "2024-06-24T10:39:54.162871Z"
    },
    "papermill": {
     "duration": 4.647611,
     "end_time": "2024-06-24T10:39:54.166668",
     "exception": false,
     "start_time": "2024-06-24T10:39:49.519057",
     "status": "completed"
    },
    "tags": []
   },
   "outputs": [
    {
     "name": "stdout",
     "output_type": "stream",
     "text": [
      "              precision    recall  f1-score   support\n",
      "\n",
      "         0.0     0.9752    0.9202    0.9469      1453\n",
      "         1.0     0.8156    0.9378    0.8724       547\n",
      "\n",
      "    accuracy                         0.9250      2000\n",
      "   macro avg     0.8954    0.9290    0.9097      2000\n",
      "weighted avg     0.9315    0.9250    0.9265      2000\n",
      "\n",
      "Inference Time of Model: 0.0055112384614490325\n"
     ]
    }
   ],
   "source": [
    "y_true_r18, y_pred_r18, inference_r18 = get_report(model_r18, dataloders['test'])\n",
    "print(classification_report(y_true_r18.detach().cpu().numpy(), y_pred_r18.detach().cpu().numpy(), digits = 4))\n",
    "print(\"Inference Time of Model: {}\".format(inference_r18))"
   ]
  },
  {
   "cell_type": "code",
   "execution_count": 21,
   "id": "58010518",
   "metadata": {
    "execution": {
     "iopub.execute_input": "2024-06-24T10:39:54.192590Z",
     "iopub.status.busy": "2024-06-24T10:39:54.192285Z",
     "iopub.status.idle": "2024-06-24T10:39:54.401641Z",
     "shell.execute_reply": "2024-06-24T10:39:54.400725Z"
    },
    "papermill": {
     "duration": 0.224494,
     "end_time": "2024-06-24T10:39:54.403571",
     "exception": false,
     "start_time": "2024-06-24T10:39:54.179077",
     "status": "completed"
    },
    "tags": []
   },
   "outputs": [
    {
     "data": {
      "image/png": "[encoded data removed]",
      "text/plain": [
       "<Figure size 640x480 with 1 Axes>"
      ]
     },
     "metadata": {},
     "output_type": "display_data"
    }
   ],
   "source": [
    "cm = confusion_matrix(y_true_r18.detach().cpu().numpy(), y_pred_r18.detach().cpu().numpy())\n",
    "sns.heatmap(cm, annot=True, fmt='d', cmap='Blues', cbar=False)\n",
    "\n",
    "plt.xlabel('Predicted Labels')\n",
    "plt.ylabel('True Labels')\n",
    "plt.title('Confusion Matrix RESNET 18')\n",
    "plt.show()"
   ]
  },
  {
   "cell_type": "markdown",
   "id": "87c5a046",
   "metadata": {
    "papermill": {
     "duration": 0.012158,
     "end_time": "2024-06-24T10:39:54.428116",
     "exception": false,
     "start_time": "2024-06-24T10:39:54.415958",
     "status": "completed"
    },
    "tags": []
   },
   "source": [
    "## **MODEL RESNET 34**"
   ]
  },
  {
   "cell_type": "code",
   "execution_count": 22,
   "id": "a5d96f66",
   "metadata": {
    "execution": {
     "iopub.execute_input": "2024-06-24T10:39:54.454346Z",
     "iopub.status.busy": "2024-06-24T10:39:54.454043Z",
     "iopub.status.idle": "2024-06-24T10:39:54.932428Z",
     "shell.execute_reply": "2024-06-24T10:39:54.931744Z"
    },
    "papermill": {
     "duration": 0.494039,
     "end_time": "2024-06-24T10:39:54.934567",
     "exception": false,
     "start_time": "2024-06-24T10:39:54.440528",
     "status": "completed"
    },
    "tags": []
   },
   "outputs": [],
   "source": [
    "model_r34 = resnet34()\n",
    "num_features = model_r34.fc.in_features\n",
    "model_r34.fc = nn.Linear(num_features, 1)\n",
    "optimizer_r34 = optim.Adam(model_r34.parameters(), lr=0.0001)\n",
    "\n",
    "if use_gpu:\n",
    "    model_r34 = model_r34.cuda()"
   ]
  },
  {
   "cell_type": "code",
   "execution_count": 23,
   "id": "5919dc72",
   "metadata": {
    "execution": {
     "iopub.execute_input": "2024-06-24T10:39:54.962099Z",
     "iopub.status.busy": "2024-06-24T10:39:54.961557Z",
     "iopub.status.idle": "2024-06-24T10:44:54.762067Z",
     "shell.execute_reply": "2024-06-24T10:44:54.760903Z"
    },
    "papermill": {
     "duration": 299.816792,
     "end_time": "2024-06-24T10:44:54.764243",
     "exception": false,
     "start_time": "2024-06-24T10:39:54.947451",
     "status": "completed"
    },
    "tags": []
   },
   "outputs": [
    {
     "name": "stdout",
     "output_type": "stream",
     "text": [
      "Epoch 0/9\n",
      "----------\n",
      "train Loss: 0.0209 Acc: 0.6070\n",
      "test Loss: 0.0148 Acc: 0.7725\n",
      "\n",
      "Epoch 1/9\n",
      "----------\n",
      "train Loss: 0.0172 Acc: 0.7200\n",
      "test Loss: 0.0138 Acc: 0.7880\n",
      "\n",
      "Epoch 2/9\n",
      "----------\n",
      "train Loss: 0.0135 Acc: 0.8070\n",
      "test Loss: 0.0118 Acc: 0.8330\n",
      "\n",
      "Epoch 3/9\n",
      "----------\n",
      "train Loss: 0.0107 Acc: 0.8543\n",
      "test Loss: 0.0114 Acc: 0.8410\n",
      "\n",
      "Epoch 4/9\n",
      "----------\n",
      "train Loss: 0.0095 Acc: 0.8707\n",
      "test Loss: 0.0082 Acc: 0.8855\n",
      "\n",
      "Epoch 5/9\n",
      "----------\n",
      "train Loss: 0.0078 Acc: 0.8990\n",
      "test Loss: 0.0076 Acc: 0.9045\n",
      "\n",
      "Epoch 6/9\n",
      "----------\n",
      "train Loss: 0.0071 Acc: 0.9067\n",
      "test Loss: 0.0109 Acc: 0.8650\n",
      "\n",
      "Epoch 7/9\n",
      "----------\n",
      "train Loss: 0.0065 Acc: 0.9177\n",
      "test Loss: 0.0084 Acc: 0.8910\n",
      "\n",
      "Epoch 8/9\n",
      "----------\n",
      "train Loss: 0.0062 Acc: 0.9160\n",
      "test Loss: 0.0115 Acc: 0.8535\n",
      "\n",
      "Epoch 9/9\n",
      "----------\n",
      "train Loss: 0.0054 Acc: 0.9337\n",
      "test Loss: 0.0073 Acc: 0.9075\n",
      "\n",
      "Training complete in 4m 60s\n",
      "Best test Acc: 0.907500\n"
     ]
    }
   ],
   "source": [
    "model_r34 = train_model_resnet(model_r34, dataloders, dataset_sizes, criterion, optimizer_r34)"
   ]
  },
  {
   "cell_type": "code",
   "execution_count": 24,
   "id": "a3025434",
   "metadata": {
    "execution": {
     "iopub.execute_input": "2024-06-24T10:44:54.795247Z",
     "iopub.status.busy": "2024-06-24T10:44:54.794915Z",
     "iopub.status.idle": "2024-06-24T10:44:59.481789Z",
     "shell.execute_reply": "2024-06-24T10:44:59.480389Z"
    },
    "papermill": {
     "duration": 4.704771,
     "end_time": "2024-06-24T10:44:59.483942",
     "exception": false,
     "start_time": "2024-06-24T10:44:54.779171",
     "status": "completed"
    },
    "tags": []
   },
   "outputs": [
    {
     "name": "stdout",
     "output_type": "stream",
     "text": [
      "              precision    recall  f1-score   support\n",
      "\n",
      "         0.0     0.9818    0.8892    0.9332      1453\n",
      "         1.0     0.7646    0.9561    0.8497       547\n",
      "\n",
      "    accuracy                         0.9075      2000\n",
      "   macro avg     0.8732    0.9227    0.8915      2000\n",
      "weighted avg     0.9224    0.9075    0.9104      2000\n",
      "\n",
      "Inference Time of Model: 0.00970210347856794\n"
     ]
    }
   ],
   "source": [
    "y_true_r34, y_pred_r34, inference_r34 = get_report(model_r34, dataloders['test'])\n",
    "print(classification_report(y_true_r34.detach().cpu().numpy(), y_pred_r34.detach().cpu().numpy(), digits = 4))\n",
    "print(\"Inference Time of Model: {}\".format(inference_r34))"
   ]
  },
  {
   "cell_type": "code",
   "execution_count": 25,
   "id": "214c00d2",
   "metadata": {
    "execution": {
     "iopub.execute_input": "2024-06-24T10:44:59.516266Z",
     "iopub.status.busy": "2024-06-24T10:44:59.515433Z",
     "iopub.status.idle": "2024-06-24T10:44:59.697538Z",
     "shell.execute_reply": "2024-06-24T10:44:59.696678Z"
    },
    "papermill": {
     "duration": 0.200156,
     "end_time": "2024-06-24T10:44:59.699424",
     "exception": false,
     "start_time": "2024-06-24T10:44:59.499268",
     "status": "completed"
    },
    "tags": []
   },
   "outputs": [
    {
     "data": {
      "image/png": "[encoded data removed]",
      "text/plain": [
       "<Figure size 640x480 with 1 Axes>"
      ]
     },
     "metadata": {},
     "output_type": "display_data"
    }
   ],
   "source": [
    "cm = confusion_matrix(y_true_r34.detach().cpu().numpy(), y_pred_r34.detach().cpu().numpy())\n",
    "sns.heatmap(cm, annot=True, fmt='d', cmap='Blues', cbar=False)\n",
    "\n",
    "plt.xlabel('Predicted Labels')\n",
    "plt.ylabel('True Labels')\n",
    "plt.title('Confusion Matrix RESNET 34')\n",
    "plt.show()"
   ]
  },
  {
   "cell_type": "markdown",
   "id": "c00874e8",
   "metadata": {
    "papermill": {
     "duration": 0.014668,
     "end_time": "2024-06-24T10:44:59.770199",
     "exception": false,
     "start_time": "2024-06-24T10:44:59.755531",
     "status": "completed"
    },
    "tags": []
   },
   "source": [
    "## **MODEL GOOGLENET**"
   ]
  },
  {
   "cell_type": "code",
   "execution_count": 26,
   "id": "80432226",
   "metadata": {
    "execution": {
     "iopub.execute_input": "2024-06-24T10:44:59.802536Z",
     "iopub.status.busy": "2024-06-24T10:44:59.801761Z",
     "iopub.status.idle": "2024-06-24T10:44:59.815059Z",
     "shell.execute_reply": "2024-06-24T10:44:59.814299Z"
    },
    "papermill": {
     "duration": 0.031048,
     "end_time": "2024-06-24T10:44:59.816951",
     "exception": false,
     "start_time": "2024-06-24T10:44:59.785903",
     "status": "completed"
    },
    "tags": []
   },
   "outputs": [],
   "source": [
    "def train_model_gnet(model, dataloaders, dataset_sizes, criterion, optimizer, use_gpu=torch.cuda.is_available(), num_epochs=10):\n",
    "    since = time.time()\n",
    "\n",
    "    best_model_wts = model.state_dict()\n",
    "    best_acc = 0.0\n",
    "\n",
    "    for epoch in range(num_epochs):\n",
    "        print('Epoch {}/{}'.format(epoch, num_epochs - 1))\n",
    "        print('-' * 10)\n",
    "\n",
    "        # Each epoch has a training and validation phase\n",
    "        for phase in ['train', 'test']:\n",
    "            if phase == 'train':\n",
    "                model.train(True)  # Set model to training mode\n",
    "            else:\n",
    "                model.train(False)  # Set model to evaluate mode\n",
    "\n",
    "            running_loss = 0.0\n",
    "            running_corrects = 0\n",
    "\n",
    "            # Iterate over data.\n",
    "            for data in dataloders[phase]:\n",
    "                # get the inputs\n",
    "                inputs, labels = data\n",
    "\n",
    "                # wrap them in Variable\n",
    "                if use_gpu:\n",
    "                    inputs = Variable(inputs.cuda())\n",
    "                    labels = Variable(labels.cuda())\n",
    "                else:\n",
    "                    inputs, labels = Variable(inputs), Variable(labels)\n",
    "\n",
    "                # zero the parameter gradients\n",
    "                optimizer.zero_grad()\n",
    "\n",
    "                # forward\n",
    "                outputs = model(inputs)\n",
    "\n",
    "                # backward + optimize only if in training phase\n",
    "                if phase == 'train':\n",
    "                    outputs = outputs.logits.squeeze()\n",
    "                    loss = criterion(outputs, labels.float())\n",
    "                    loss.backward()\n",
    "                    optimizer.step()\n",
    "                else:\n",
    "                    outputs = outputs.squeeze()\n",
    "                    loss = criterion(outputs, labels.float())\n",
    "\n",
    "                # statistics\n",
    "                preds = (torch.sigmoid(outputs) > 0.5).float()\n",
    "                running_loss += loss.data\n",
    "                running_corrects += torch.sum(preds == labels.data)\n",
    "\n",
    "            epoch_loss = running_loss / dataset_sizes[phase]\n",
    "            epoch_acc = running_corrects.float() / dataset_sizes[phase]\n",
    "\n",
    "            print('{} Loss: {:.4f} Acc: {:.4f}'.format(phase, epoch_loss, epoch_acc))\n",
    "\n",
    "            # deep copy the model\n",
    "            if phase == 'test' and epoch_acc > best_acc:\n",
    "                best_acc = epoch_acc\n",
    "                best_model_wts = model.state_dict()\n",
    "                state = {'model':model.state_dict(),'optim':optimizer.state_dict()}\n",
    "#                 torch.save(state,'./point_resnet_best.pth')\n",
    "\n",
    "        print()\n",
    "\n",
    "    time_elapsed = time.time() - since\n",
    "    print('Training complete in {:.0f}m {:.0f}s'.format(time_elapsed // 60, time_elapsed % 60))\n",
    "    print('Best test Acc: {:4f}'.format(best_acc))\n",
    "\n",
    "    # load best model weights\n",
    "    model.load_state_dict(best_model_wts)\n",
    "    return model"
   ]
  },
  {
   "cell_type": "code",
   "execution_count": 27,
   "id": "20262bfa",
   "metadata": {
    "execution": {
     "iopub.execute_input": "2024-06-24T10:44:59.847774Z",
     "iopub.status.busy": "2024-06-24T10:44:59.847485Z",
     "iopub.status.idle": "2024-06-24T10:45:00.171789Z",
     "shell.execute_reply": "2024-06-24T10:45:00.170823Z"
    },
    "papermill": {
     "duration": 0.342385,
     "end_time": "2024-06-24T10:45:00.174154",
     "exception": false,
     "start_time": "2024-06-24T10:44:59.831769",
     "status": "completed"
    },
    "tags": []
   },
   "outputs": [
    {
     "name": "stderr",
     "output_type": "stream",
     "text": [
      "/opt/conda/lib/python3.10/site-packages/torchvision/models/googlenet.py:47: FutureWarning: The default weight initialization of GoogleNet will be changed in future releases of torchvision. If you wish to keep the old behavior (which leads to long initialization times due to scipy/scipy#11299), please set init_weights=True.\n",
      "  warnings.warn(\n"
     ]
    }
   ],
   "source": [
    "model_gnet = googlenet()\n",
    "num_ftrs = model_gnet.fc.in_features\n",
    "model_gnet.fc = nn.Linear(num_ftrs, 1)\n",
    "optimizer_gnet = optim.Adam(model_gnet.parameters(), lr=0.0001)\n",
    "\n",
    "if use_gpu:\n",
    "    model_gnet = model_gnet.cuda()"
   ]
  },
  {
   "cell_type": "code",
   "execution_count": 28,
   "id": "d608915b",
   "metadata": {
    "execution": {
     "iopub.execute_input": "2024-06-24T10:45:00.205795Z",
     "iopub.status.busy": "2024-06-24T10:45:00.205495Z",
     "iopub.status.idle": "2024-06-24T10:47:40.086005Z",
     "shell.execute_reply": "2024-06-24T10:47:40.084825Z"
    },
    "papermill": {
     "duration": 159.915026,
     "end_time": "2024-06-24T10:47:40.104490",
     "exception": false,
     "start_time": "2024-06-24T10:45:00.189464",
     "status": "completed"
    },
    "tags": []
   },
   "outputs": [
    {
     "name": "stdout",
     "output_type": "stream",
     "text": [
      "Epoch 0/9\n",
      "----------\n",
      "train Loss: 0.0192 Acc: 0.6597\n",
      "test Loss: 0.0172 Acc: 0.6945\n",
      "\n",
      "Epoch 1/9\n",
      "----------\n",
      "train Loss: 0.0147 Acc: 0.7697\n",
      "test Loss: 0.0107 Acc: 0.8530\n",
      "\n",
      "Epoch 2/9\n",
      "----------\n",
      "train Loss: 0.0106 Acc: 0.8543\n",
      "test Loss: 0.0089 Acc: 0.8775\n",
      "\n",
      "Epoch 3/9\n",
      "----------\n",
      "train Loss: 0.0087 Acc: 0.8770\n",
      "test Loss: 0.0079 Acc: 0.8880\n",
      "\n",
      "Epoch 4/9\n",
      "----------\n",
      "train Loss: 0.0078 Acc: 0.8977\n",
      "test Loss: 0.0071 Acc: 0.8975\n",
      "\n",
      "Epoch 5/9\n",
      "----------\n",
      "train Loss: 0.0070 Acc: 0.9033\n",
      "test Loss: 0.0054 Acc: 0.9255\n",
      "\n",
      "Epoch 6/9\n",
      "----------\n",
      "train Loss: 0.0064 Acc: 0.9117\n",
      "test Loss: 0.0047 Acc: 0.9315\n",
      "\n",
      "Epoch 7/9\n",
      "----------\n",
      "train Loss: 0.0058 Acc: 0.9183\n",
      "test Loss: 0.0061 Acc: 0.9175\n",
      "\n",
      "Epoch 8/9\n",
      "----------\n",
      "train Loss: 0.0056 Acc: 0.9257\n",
      "test Loss: 0.0057 Acc: 0.9225\n",
      "\n",
      "Epoch 9/9\n",
      "----------\n",
      "train Loss: 0.0049 Acc: 0.9370\n",
      "test Loss: 0.0056 Acc: 0.9235\n",
      "\n",
      "Training complete in 2m 40s\n",
      "Best test Acc: 0.931500\n"
     ]
    }
   ],
   "source": [
    "model_gnet = train_model_gnet(model_gnet, dataloders, dataset_sizes, criterion, optimizer_gnet, num_epochs=10)"
   ]
  },
  {
   "cell_type": "code",
   "execution_count": null,
   "id": "6c68da9d",
   "metadata": {
    "papermill": {
     "duration": 0.016366,
     "end_time": "2024-06-24T10:47:40.137533",
     "exception": false,
     "start_time": "2024-06-24T10:47:40.121167",
     "status": "completed"
    },
    "tags": []
   },
   "outputs": [],
   "source": []
  }
 ],
 "metadata": {
  "kaggle": {
   "accelerator": "nvidiaTeslaT4",
   "dataSources": [
    {
     "datasetId": 5232192,
     "sourceId": 8720009,
     "sourceType": "datasetVersion"
    }
   ],
   "dockerImageVersionId": 30732,
   "isGpuEnabled": true,
   "isInternetEnabled": true,
   "language": "python",
   "sourceType": "notebook"
  },
  "kernelspec": {
   "display_name": "Python 3",
   "language": "python",
   "name": "python3"
  },
  "language_info": {
   "codemirror_mode": {
    "name": "ipython",
    "version": 3
   },
   "file_extension": ".py",
   "mimetype": "text/x-python",
   "name": "python",
   "nbconvert_exporter": "python",
   "pygments_lexer": "ipython3",
   "version": "3.10.13"
  },
  "papermill": {
   "default_parameters": {},
   "duration": 687.251344,
   "end_time": "2024-06-24T10:47:41.778599",
   "environment_variables": {},
   "exception": null,
   "input_path": "__notebook__.ipynb",
   "output_path": "__notebook__.ipynb",
   "parameters": {},
   "start_time": "2024-06-24T10:36:14.527255",
   "version": "2.5.0"
  }
 },
 "nbformat": 4,
 "nbformat_minor": 5
}
